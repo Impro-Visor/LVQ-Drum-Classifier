{
 "cells": [
  {
   "cell_type": "code",
   "execution_count": null,
   "metadata": {
    "collapsed": false
   },
   "outputs": [],
   "source": [
    "# Imports and Setup\n",
    "import numpy as np\n",
    "import os, csv\n",
    "import matplotlib.pyplot as plt\n",
    "import librosa\n",
    "import IPython.display\n",
    "\n",
    "# has to be set in order to show the image in notebook\n",
    "%matplotlib inline "
   ]
  },
  {
   "cell_type": "code",
   "execution_count": null,
   "metadata": {
    "collapsed": false,
    "scrolled": true
   },
   "outputs": [],
   "source": [
    "try:\n",
    "    os.chdir(\"./Resources\")\n",
    "except:\n",
    "    pass\n",
    "\n",
    "y, sr = librosa.load('./single-kick-2.wav', duration=1, offset=2)\n",
    "# y, sr = librosa.load(\"./and-kick-snare.wav\", duration=1, offset=7.5) # keep for snarekick sampling\n",
    "# returns a numpy array series => assigned to y\n",
    "#   and the sampling rate of y => assigned to sr (signal rate)\n",
    "\n",
    "IPython.display.Audio(data=y, rate=sr)"
   ]
  },
  {
   "cell_type": "code",
   "execution_count": null,
   "metadata": {
    "collapsed": false
   },
   "outputs": [],
   "source": [
    "# Let's make and display a mel-scaled power (energy-squared) spectrogram\n",
    "S = librosa.feature.melspectrogram(y, sr=sr, n_mels=128)\n",
    "\n",
    "o_env = librosa.onset.onset_strength(y, sr=sr)\n",
    "\n",
    "# Convert to log scale (dB). We'll use the peak power as reference.\n",
    "log_S = librosa.logamplitude(S, ref_power=np.max)\n",
    "\n",
    "# Make a new figure\n",
    "plt.figure(figsize=(12,4))\n",
    "\n",
    "# Display the spectrogram on a mel scale\n",
    "# sample rate and hop length parameters are used to render the time axis\n",
    "librosa.display.specshow(log_S, sr=sr, x_axis='time', y_axis='mel')\n",
    "\n",
    "# Put a descriptive title on the plot\n",
    "plt.title('mel power spectrogram')\n",
    "\n",
    "# draw a color bar\n",
    "plt.colorbar(format='%+02.0f dB')\n",
    "\n",
    "# Make the figure layout compact\n",
    "plt.tight_layout()"
   ]
  },
  {
   "cell_type": "code",
   "execution_count": null,
   "metadata": {
    "collapsed": false,
    "scrolled": true
   },
   "outputs": [],
   "source": [
    "onset_frames = librosa.onset.onset_detect(y=y, sr=sr)\n",
    "onset_times  = librosa.frames_to_time(onset_frames[:], sr=sr)"
   ]
  },
  {
   "cell_type": "code",
   "execution_count": null,
   "metadata": {
    "collapsed": false,
    "scrolled": true
   },
   "outputs": [],
   "source": [
    "D = np.abs(librosa.stft(y))**2\n",
    "plt.figure()\n",
    "\n",
    "plt.subplot(2, 1, 1)\n",
    "librosa.display.specshow(librosa.logamplitude(D, ref_power=np.max), x_axis='time', y_axis='log')\n",
    "plt.title('Power spectrogram')\n",
    "\n",
    "plt.subplot(2, 1, 2)\n",
    "plt.plot(o_env, label='Onset strength')\n",
    "plt.vlines(onset_frames, 0, o_env.max(), color='r', alpha=0.9, linestyle='--', label='Onsets')\n",
    "plt.xticks([])\n",
    "plt.axis('tight')"
   ]
  },
  {
   "cell_type": "code",
   "execution_count": null,
   "metadata": {
    "collapsed": false,
    "scrolled": false
   },
   "outputs": [],
   "source": [
    "onset_stfts = []\n",
    "for frame in onset_frames:\n",
    "    print np.abs(D[:, frame])\n",
    "    onset_stfts.append(np.abs(D[:, frame]))"
   ]
  },
  {
   "cell_type": "code",
   "execution_count": 11,
   "metadata": {
    "collapsed": false,
    "scrolled": true
   },
   "outputs": [
    {
     "name": "stdout",
     "output_type": "stream",
     "text": [
      "highTomFrames.csv\n"
     ]
    }
   ],
   "source": [
    "filename = raw_input()"
   ]
  },
  {
   "cell_type": "code",
   "execution_count": 12,
   "metadata": {
    "collapsed": false
   },
   "outputs": [],
   "source": [
    "with open('../data/' + filename, 'w+') as f:\n",
    "    fw = csv.writer(f, delimiter=',')\n",
    "    \n",
    "    for i in range(len(onset_frames)):\n",
    "        # onset_stfts is an array of ndarrays so we need to cast to list\n",
    "        fw.writerow([onset_frames[i], onset_stfts[i].tolist()]) "
   ]
  }
 ],
 "metadata": {
  "kernelspec": {
   "display_name": "Python 2",
   "language": "python",
   "name": "python2"
  },
  "language_info": {
   "codemirror_mode": {
    "name": "ipython",
    "version": 2
   },
   "file_extension": ".py",
   "mimetype": "text/x-python",
   "name": "python",
   "nbconvert_exporter": "python",
   "pygments_lexer": "ipython2",
   "version": "2.7.6"
  }
 },
 "nbformat": 4,
 "nbformat_minor": 0
}
