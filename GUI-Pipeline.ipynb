{
 "cells": [
  {
   "cell_type": "code",
   "execution_count": 56,
   "metadata": {
    "collapsed": true
   },
   "outputs": [],
   "source": [
    "import Tkinter, tkFileDialog \n",
    "# (TODO) import rest of pipeline / libraries"
   ]
  },
  {
   "cell_type": "code",
   "execution_count": 66,
   "metadata": {
    "collapsed": false
   },
   "outputs": [],
   "source": [
    "# Boilerplate Tkinter code: http://sebsauvage.net/python/gui/\n",
    "class App(Tkinter.Tk):\n",
    "    def __init__(self, parent):\n",
    "        self.counter = 0\n",
    "        Tkinter.Tk.__init__(self, parent)\n",
    "        self.parent = parent\n",
    "        self.initialize()\n",
    "        \n",
    "    def initialize(self):\n",
    "        #self.root = Tkinter.Tk()\n",
    "        self.grid()\n",
    "        \n",
    "        self.entryVariable = Tkinter.StringVar()\n",
    "        self.entry = Tkinter.Entry(self, textvariable=self.entryVariable)\n",
    "        self.entry.grid(column=0, row=0, sticky='EW')\n",
    "        self.entryVariable.set(\"Enter Content here\")\n",
    "        \n",
    "        button = Tkinter.Button(self, text=\"Enter!\", command=self.enter)\n",
    "        button.grid(column=0, row=1)\n",
    "        fileButton = Tkinter.Button(self, text=\"Load File\", \n",
    "                                    command=self.getFileDialogue)\n",
    "        fileButton.grid(column=0, row=3)\n",
    "        self.labelVariable = Tkinter.StringVar()\n",
    "        label = Tkinter.Label(self, anchor='w', fg='white', \n",
    "                              bg='blue', textvariable=self.labelVariable)\n",
    "        label.grid(column=0, row = 2, columnspan=2, sticky='EW')\n",
    "        \n",
    "        self.grid_columnconfigure(0, weight=1)\n",
    "        self.resizable(True, False)\n",
    "        \n",
    "        self.update()\n",
    "        self.geometry(self.geometry())\n",
    "        \n",
    "    def enter(self):\n",
    "        self.counter += 1\n",
    "        # self.labelVariable.set(\"Enter pressed %d times\" % self.counter)\n",
    "        self.labelVariable.set(self.entryVariable.get())\n",
    "        \n",
    "    def getFileDialogue(self):\n",
    "        filey = tkFileDialog.askopenfile(parent=self, mode='r', title=\"lalala\")\n",
    "        if filey != None:\n",
    "            data = filey.read()\n",
    "            filey.close()\n",
    "            self.labelVariable.set(\"Recieved %d bytes from file.\" % len(data))    "
   ]
  },
  {
   "cell_type": "code",
   "execution_count": 67,
   "metadata": {
    "collapsed": false
   },
   "outputs": [],
   "source": [
    "if __name__ == '__main__':\n",
    "    \n",
    "    app = App(None)\n",
    "    app.title('LVQ Drum Classifier')\n",
    "    app.mainloop()"
   ]
  },
  {
   "cell_type": "code",
   "execution_count": null,
   "metadata": {
    "collapsed": true
   },
   "outputs": [],
   "source": []
  }
 ],
 "metadata": {
  "kernelspec": {
   "display_name": "Python 2",
   "language": "python",
   "name": "python2"
  },
  "language_info": {
   "codemirror_mode": {
    "name": "ipython",
    "version": 2
   },
   "file_extension": ".py",
   "mimetype": "text/x-python",
   "name": "python",
   "nbconvert_exporter": "python",
   "pygments_lexer": "ipython2",
   "version": "2.7.6"
  }
 },
 "nbformat": 4,
 "nbformat_minor": 0
}
