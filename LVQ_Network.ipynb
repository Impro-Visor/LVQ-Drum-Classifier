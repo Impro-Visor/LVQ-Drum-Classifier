{
 "cells": [
  {
   "cell_type": "code",
   "execution_count": 91,
   "metadata": {
    "collapsed": true
   },
   "outputs": [],
   "source": [
    "import random"
   ]
  },
  {
   "cell_type": "code",
   "execution_count": 124,
   "metadata": {
    "collapsed": true
   },
   "outputs": [],
   "source": [
    "class Node:\n",
    "    def __init__(self, name):\n",
    "        self.name = name\n",
    "        self.weight = random.uniform(-1, 1)\n",
    "        \n",
    "    def __str__(self):\n",
    "        return self.name + \" -- \" + str(self.weight)"
   ]
  },
  {
   "cell_type": "code",
   "execution_count": 117,
   "metadata": {
    "collapsed": false
   },
   "outputs": [],
   "source": [
    "class LVQNet:\n",
    "    def __init__(self):\n",
    "        self.alpha           = 0.10\n",
    "        self.iterationsLeft  = 100\n",
    "        self.outputLayerSize = 0\n",
    "        self.outputLayer     = {}\n",
    "    \n",
    "    def addNode(self, name):\n",
    "        curr_node = Node(name)\n",
    "        self.outputLayer[name] = curr_node\n",
    "        self.outputLayerSize += 1\n",
    "    \n",
    "    def __str__(self):\n",
    "        return \"Output Layer consists of \" + str(self.outputLayerSize) + \" nodes.\""
   ]
  },
  {
   "cell_type": "code",
   "execution_count": 118,
   "metadata": {
    "collapsed": false
   },
   "outputs": [],
   "source": [
    "class InputVector:\n",
    "    idGen = 1\n",
    "    \n",
    "    def __init__(self, infoTuple):\n",
    "        self.idKey    = InputVector.idGen\n",
    "        self.vector   = infoTuple[0]\n",
    "        self.category = infoTuple[1]\n",
    "        \n",
    "        InputVector.idGen += 1\n",
    "        \n",
    "    def __str__(self):\n",
    "        return str(self.id) + \" : \" + str(self.info)"
   ]
  },
  {
   "cell_type": "code",
   "execution_count": 119,
   "metadata": {
    "collapsed": true
   },
   "outputs": [],
   "source": [
    "class TrainingSet:\n",
    "    # A Dictionary of IDs that map to input vectors\n",
    "    #   => Tuples of Input Vectors ([Information], \"Classifier\")\n",
    "    def __init__(self):\n",
    "        self.inputs = {}\n",
    "    \n",
    "    # Input must be InputVector type\n",
    "    def addInput(self, vector):\n",
    "        v = InputVector(vector)\n",
    "        self.inputs[v.idKey] = vector\n",
    "        \n",
    "    def __str__(self):\n",
    "        return str(self.inputs)"
   ]
  },
  {
   "cell_type": "code",
   "execution_count": 120,
   "metadata": {
    "collapsed": false
   },
   "outputs": [],
   "source": [
    "t_set = TrainingSet()\n",
    "\n",
    "# Examples of Input Vectors\n",
    "t_set.addInput(([1, 2, 3, 4], \"Kick Drum\"))\n",
    "t_set.addInput(([2, 3, 4, 5], \"Cymbals\"))"
   ]
  },
  {
   "cell_type": "code",
   "execution_count": 121,
   "metadata": {
    "collapsed": false
   },
   "outputs": [
    {
     "name": "stdout",
     "output_type": "stream",
     "text": [
      "['kick', 'high-tom', 'low-tom', 'snare', 'hi-hat', 'kick and high-tom', 'kick and low-tom', 'kick and snare', 'kick and hi-hat', 'high-tom and low-tom', 'high-tom and snare', 'high-tom and hi-hat', 'low-tom and snare', 'low-tom and hi-hat', 'snare and hi-hat'] 15\n"
     ]
    }
   ],
   "source": [
    "single_drum = [\"kick\", \"high-tom\", \"low-tom\", \"snare\", \"hi-hat\"] # grab bag of some drums we sampled\n",
    "\n",
    "outcome_nodes = [] # create single and combos of drums (TODO) Extend to all combos up to 5 until more instruments \n",
    "\n",
    "for drum in single_drum:\n",
    "    outcome_nodes.append(drum)\n",
    "    \n",
    "for drum in range(len(single_drum)):\n",
    "    for other_drum in range(drum, len(single_drum)):\n",
    "        if not(drum == other_drum):\n",
    "            outcome_nodes.append(single_drum[drum] + \" and \" + single_drum[other_drum])\n",
    "            \n",
    "print outcome_nodes, len(outcome_nodes)"
   ]
  }
 ],
 "metadata": {
  "kernelspec": {
   "display_name": "Python 2",
   "language": "python",
   "name": "python2"
  },
  "language_info": {
   "codemirror_mode": {
    "name": "ipython",
    "version": 2
   },
   "file_extension": ".py",
   "mimetype": "text/x-python",
   "name": "python",
   "nbconvert_exporter": "python",
   "pygments_lexer": "ipython2",
   "version": "2.7.6"
  }
 },
 "nbformat": 4,
 "nbformat_minor": 0
}
