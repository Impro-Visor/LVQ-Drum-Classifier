{
 "cells": [
  {
   "cell_type": "code",
   "execution_count": 70,
   "metadata": {
    "collapsed": false
   },
   "outputs": [],
   "source": [
    "class LVQNet:\n",
    "    def __init__(self):\n",
    "        self.inputLayerSize  = 0\n",
    "        self.outputLayerSize = 0\n",
    "        self.graph           = {} # not yet implemented\n",
    "    \n",
    "    def addNode(self, node):      \n",
    "        if (layer == \"output\" or later == \"Output\"):\n",
    "            self.graph[node] = node # replace with edges\n",
    "            self.outputLayerSize += 1\n",
    "        elif (layer == \"input\" or layer == \"Input\"):\n",
    "            self.graph[node] = node # replace with edges\n",
    "            self.inputLayerSize += 1\n",
    "        else:\n",
    "            print \"Error: incorrect layer type.\\nPlease use string (input / output).\"\n",
    "    \n",
    "    def info(self):\n",
    "        print \"Input Layer consists of %d nodes\" % (self.inputLayerSize)\n",
    "        print \"Output Layer consists of %d nodes\" % (self.outputLayerSize)\n",
    "        "
   ]
  },
  {
   "cell_type": "code",
   "execution_count": 72,
   "metadata": {
    "collapsed": false
   },
   "outputs": [],
   "source": [
    "class InputVector:\n",
    "    idGen = 1\n",
    "    \n",
    "    def __init__(self, infoTuple):\n",
    "        self.idKey    = InputVector.idGen\n",
    "        self.vector   = infoTuple[0]\n",
    "        self.category = infoTuple[1]\n",
    "        \n",
    "        InputVector.idGen += 1\n",
    "        \n",
    "    def info(self):\n",
    "        print self.id, \":\", str(self.info)"
   ]
  },
  {
   "cell_type": "code",
   "execution_count": 73,
   "metadata": {
    "collapsed": true
   },
   "outputs": [],
   "source": [
    "class TrainingSet:\n",
    "    # A Dictionary of IDs that map to input vectors\n",
    "    #      -> Tuples of Input Vectors ([Information], \"Classifier\")\n",
    "    def __init__(self):\n",
    "        self.inputs = {}\n",
    "    \n",
    "    # Input must be InputVector type\n",
    "    def addInput(self, vector):\n",
    "        v = InputVector(vector)\n",
    "        self.inputs[v.idKey] = vector\n",
    "        \n",
    "    def __string__(self):\n",
    "        print str(self.inputs)"
   ]
  },
  {
   "cell_type": "code",
   "execution_count": 74,
   "metadata": {
    "collapsed": false
   },
   "outputs": [],
   "source": [
    "t_set = TrainingSet()\n",
    "# Examples of Input Vectors\n",
    "t_set.addInput(([1, 2, 3, 4], \"Kick Drum\"))\n",
    "t_set.addInput(([2, 3, 4, 5], \"Cymbals\"))"
   ]
  },
  {
   "cell_type": "code",
   "execution_count": 83,
   "metadata": {
    "collapsed": true
   },
   "outputs": [],
   "source": [
    "single_drum = [\"kick\", \"high-tom\", \"low-tom\", \"snare\", \"hi-hat\"]"
   ]
  },
  {
   "cell_type": "code",
   "execution_count": 88,
   "metadata": {
    "collapsed": false
   },
   "outputs": [
    {
     "name": "stdout",
     "output_type": "stream",
     "text": [
      "['kick', 'high-tom', 'low-tom', 'snare', 'hi-hat', 'kick and high-tom', 'kick and low-tom', 'kick and snare', 'kick and hi-hat', 'high-tom and low-tom', 'high-tom and snare', 'high-tom and hi-hat', 'low-tom and snare', 'low-tom and hi-hat', 'snare and hi-hat']\n"
     ]
    }
   ],
   "source": [
    "outcome_nodes = []\n",
    "\n",
    "for drum in single_drum:\n",
    "    outcome_nodes.append(drum)\n",
    "    \n",
    "for drum in range(len(single_drum)):\n",
    "    for other_drum in range(drum, len(single_drum)):\n",
    "        if not(drum == other_drum):\n",
    "            outcome_nodes.append(single_drum[drum] + \" and \" + single_drum[other_drum])\n",
    "            \n",
    "print outcome_nodes"
   ]
  },
  {
   "cell_type": "code",
   "execution_count": null,
   "metadata": {
    "collapsed": true
   },
   "outputs": [],
   "source": []
  }
 ],
 "metadata": {
  "kernelspec": {
   "display_name": "Python 2",
   "language": "python",
   "name": "python2"
  },
  "language_info": {
   "codemirror_mode": {
    "name": "ipython",
    "version": 2
   },
   "file_extension": ".py",
   "mimetype": "text/x-python",
   "name": "python",
   "nbconvert_exporter": "python",
   "pygments_lexer": "ipython2",
   "version": "2.7.6"
  }
 },
 "nbformat": 4,
 "nbformat_minor": 0
}
