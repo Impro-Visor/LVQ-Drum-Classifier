{
 "cells": [
  {
   "cell_type": "code",
   "execution_count": 2,
   "metadata": {
    "collapsed": false
   },
   "outputs": [],
   "source": [
    "# Functions to help write LVQNet to an S-expression file\n",
    "import os\n",
    "\n",
    "class SEWriter():\n",
    "    def __init__(self, name, path):\n",
    "        # (TODO) add path logic\n",
    "        self.document = open(path + name, 'rw+')\n",
    "        self.document.write(\"(\")\n",
    "        \n",
    "    def writeSExp(self, operator, *args):\n",
    "        f = self.document\n",
    "        f.write(\"(\" + operator)\n",
    "        \n",
    "        for arg in args:\n",
    "            f.write(arg)\n",
    "        \n",
    "        f.write(\")\\n\")\n",
    "        \n",
    "    def finish(self):\n",
    "        self.document.close()"
   ]
  },
  {
   "cell_type": "code",
   "execution_count": null,
   "metadata": {
    "collapsed": true
   },
   "outputs": [],
   "source": []
  }
 ],
 "metadata": {
  "kernelspec": {
   "display_name": "Python 2",
   "language": "python",
   "name": "python2"
  },
  "language_info": {
   "codemirror_mode": {
    "name": "ipython",
    "version": 2
   },
   "file_extension": ".py",
   "mimetype": "text/x-python",
   "name": "python",
   "nbconvert_exporter": "python",
   "pygments_lexer": "ipython2",
   "version": "2.7.6"
  }
 },
 "nbformat": 4,
 "nbformat_minor": 0
}
