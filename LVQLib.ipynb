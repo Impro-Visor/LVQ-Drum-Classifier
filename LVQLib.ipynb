{
 "cells": [
  {
   "cell_type": "code",
   "execution_count": 36,
   "metadata": {
    "collapsed": false,
    "scrolled": true
   },
   "outputs": [],
   "source": [
    "import os, csv"
   ]
  },
  {
   "cell_type": "code",
   "execution_count": 37,
   "metadata": {
    "collapsed": true,
    "scrolled": true
   },
   "outputs": [],
   "source": [
    "class LVQNeuron:\n",
    "    def __init__(self, name):\n",
    "        self.name = name\n",
    "        self.weights = []\n",
    "    \n",
    "    def setWeights(self, weights):\n",
    "        weights = weights.replace('[', '').replace(']', '').split(',')\n",
    "        \n",
    "        for weight in weights:\n",
    "            self.weights.append(float(weight))\n",
    "        \n",
    "        \n",
    "    def __len__(self):\n",
    "        return len(self.weights)"
   ]
  },
  {
   "cell_type": "code",
   "execution_count": 39,
   "metadata": {
    "collapsed": false,
    "scrolled": true
   },
   "outputs": [],
   "source": [
    "class LVQNet:\n",
    "    def __init__(self, inCount, outCount):\n",
    "        self.inputs   = inCount\n",
    "        self.outputs  = outCount\n",
    "        self.alpha    = 0.1\n",
    "        self.csvCount = 0  # Limit the CSVs input to number of output neurons\n",
    "        self.neurons  = {} # Numbered index map (to outputs)\n",
    "              \n",
    "        for n in range(outCount):\n",
    "            curr_neuron = LVQNeuron(n)\n",
    "            self.neurons[n] = curr_neuron\n",
    "            \n",
    "    def __len__(self):\n",
    "        return len(self.neurons)\n",
    "    \n",
    "    def getWeights(self, neuronNo):\n",
    "        return self.neurons[neuronNo].weights\n",
    "    \n",
    "    def setWeights(self, neuronNo, newWeights):\n",
    "        prev = self.neurons[neuronNo]\n",
    "        \n",
    "        if len(prev) == len(newWeights):\n",
    "            prev.weights = newWeights\n",
    "        \n",
    "    # STEP 0\n",
    "    def enterCSV(self, filepath): \n",
    "        if self.csvCount >= self.outputs:\n",
    "            print \"Reached limit of neurons\"\n",
    "            return\n",
    "            \n",
    "        with open(filepath, 'r') as f:\n",
    "            read = csv.reader(f, delimiter=',')\n",
    "            row = read.next()\n",
    "            curr_neuron = self.neurons[self.csvCount]\n",
    "            curr_neuron.setWeights(row[1])\n",
    "            self.csvCount += 1\n",
    "            \n",
    "            print \"Successfully added neuron from CSV\", filepath\n",
    "            return\n",
    "\n",
    "    # STEP 3.1\n",
    "    def edist(self, inputs, weights):\n",
    "        euclideanDistance = 0\n",
    "        \n",
    "        if len(inputs) != len(weights):\n",
    "            print len(inputs), \"different length than\", len(weights)\n",
    "            return\n",
    "        \n",
    "        for i in range(len(inputs)):\n",
    "            nth = inputs[i] - weights[i]\n",
    "            nth = nth ** 2\n",
    "            euclideanDistance += nth\n",
    "             \n",
    "        return euclideanDistance ** (0.5)\n",
    "    \n",
    "    # STEP 3.2 \n",
    "    def minDist(self, inputVector):\n",
    "        scores = [] # Euclidean Distances\n",
    "        \n",
    "        for neuron in self.neurons:\n",
    "            wunit = self.neurons[neuron].weights\n",
    "            scores.append(self.edist(inputVector, wunit))\n",
    "        \n",
    "        minNeuronIndex = scores.index(min(scores))\n",
    "        return minNeuronIndex\n",
    "    \n",
    "    # STEP 4 \n",
    "    def calibrate(self, neuron, guessNo, inputVector):\n",
    "        guess   = dataset.lookupInstrument(guessNo)\n",
    "        weights = self.getWeights(guessNo) \n",
    "        \n",
    "        addfunc = lambda oldWeight, vec: oldWeight + self.alpha * (vec - oldWeight)\n",
    "        subfunc = lambda oldWeight, vec: oldWeight - self.alpha * (vec - oldWeight)\n",
    "\n",
    "        if neuron == guess: \n",
    "            newWeights = map(addfunc, weights, inputVector) # assign weights as new weights\n",
    "            self.setWeights(guessNo, newWeights)\n",
    "        else:\n",
    "            newWeights = map(subfunc, weights, inputVector) # assign weights as new weights\n",
    "            self.setWeights(guessNo, newWeights)"
   ]
  },
  {
   "cell_type": "code",
   "execution_count": 40,
   "metadata": {
    "collapsed": true,
    "scrolled": true
   },
   "outputs": [],
   "source": [
    "class LVQData:\n",
    "    def __init__(self):\n",
    "        self.data          = [] # list of tuples \n",
    "        self.instrumentMap = {} # map integers with instruments (labels)\n",
    "        self.instrumentNum = 0  # current integer instrument (to neuron)\n",
    "    \n",
    "    def getVector(self, index):\n",
    "        return self.data[index][0]\n",
    "    \n",
    "    def getVectorLabel(self, index):\n",
    "        return self.data[index][1]\n",
    "    \n",
    "    def lookupInstrument(self, index):\n",
    "        return self.instrumentMap[index]\n",
    "    \n",
    "    def loadCSV(self, filepath, label):\n",
    "        with open(filepath, 'r') as f:\n",
    "            read = csv.reader(f, delimiter=',')\n",
    "            read.next()\n",
    "            \n",
    "            for row in read:\n",
    "                data_struct = (arrayParser(row[1]), label) # Tuple with STFT bin list and then the label\n",
    "                self.data.append(data_struct)\n",
    "        \n",
    "            self.instrumentMap[self.instrumentNum] = label\n",
    "            self.instrumentNum += 1\n",
    "            \n",
    "        return self.data"
   ]
  },
  {
   "cell_type": "code",
   "execution_count": 41,
   "metadata": {
    "collapsed": true,
    "scrolled": true
   },
   "outputs": [],
   "source": [
    "def arrayParser(arr):\n",
    "    # CSV usage: cast string list to python list\n",
    "    smooth_stage_1 = arr.replace('[', '').replace(']', '').split(',')\n",
    "    smooth_stage_2 = map(lambda unit: float(unit), smooth_stage_1)\n",
    "    return smooth_stage_2"
   ]
  },
  {
   "cell_type": "code",
   "execution_count": 42,
   "metadata": {
    "collapsed": false,
    "scrolled": true
   },
   "outputs": [
    {
     "name": "stdout",
     "output_type": "stream",
     "text": [
      "Successfully added neuron from CSV ./data/snareFrames.csv\n",
      "Successfully added neuron from CSV ./data/kickDrumFrames.csv\n"
     ]
    }
   ],
   "source": [
    "### Driver: Outline of the API / Algorithm in use    \n",
    "if __name__ == '__main__':\n",
    "    # Create Network with in and out neuron parameters\n",
    "    koho = LVQNet(1025, 2)\n",
    "    \n",
    "    # Enter data (1-1 CSV to Output Neurons) Initializes the neurons with first onset\n",
    "    koho.enterCSV('./data/snareFrames.csv')\n",
    "    koho.enterCSV('./data/kickDrumFrames.csv')\n",
    "    \n",
    "    # Instantiate LVQ Training Data Structure and load rest of CSVs with labels\n",
    "    dataset = LVQData()\n",
    "    dataset.loadCSV('./data/snareFrames.csv', 'snare')\n",
    "    dataset.loadCSV('./data/kickDrumFrames.csv', 'kick-drum')\n",
    "    \n",
    "    # (TODO) Put the koho minDists in loop / logic\n",
    "    guess = koho.minDist(dataset.getVector(2))  # using a specific sample frame (snare)\n",
    "    guess2 = koho.minDist(dataset.getVector(8)) # using another sample frame (kick)\n",
    " \n",
    "    newWeights = koho.calibrate(dataset.getVectorLabel(8), guess2, dataset.getVector(8))"
   ]
  }
 ],
 "metadata": {
  "kernelspec": {
   "display_name": "Python 2",
   "language": "python",
   "name": "python2"
  },
  "language_info": {
   "codemirror_mode": {
    "name": "ipython",
    "version": 2
   },
   "file_extension": ".py",
   "mimetype": "text/x-python",
   "name": "python",
   "nbconvert_exporter": "python",
   "pygments_lexer": "ipython2",
   "version": "2.7.6"
  }
 },
 "nbformat": 4,
 "nbformat_minor": 0
}
