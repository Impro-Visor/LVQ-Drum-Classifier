{
 "cells": [
  {
   "cell_type": "code",
   "execution_count": 9,
   "metadata": {
    "collapsed": false
   },
   "outputs": [],
   "source": [
    "import csv"
   ]
  },
  {
   "cell_type": "code",
   "execution_count": 46,
   "metadata": {
    "collapsed": true
   },
   "outputs": [],
   "source": [
    "class LVQNeuron:\n",
    "    def __init__(self, name):\n",
    "        self.name = name\n",
    "        self.weights = []\n",
    "    \n",
    "    def setWeights(self, weights):\n",
    "        for weight in weights:\n",
    "            self.weights.append(weight)\n",
    "        \n",
    "    def __str__(self):\n",
    "        return \"Hi I'm \" + self.name\n",
    "    \n",
    "    def __len__(self):\n",
    "        return len(self.weights)"
   ]
  },
  {
   "cell_type": "code",
   "execution_count": 47,
   "metadata": {
    "collapsed": true
   },
   "outputs": [],
   "source": [
    "class LVQNet:\n",
    "    def __init__(self, inCount, outCount):\n",
    "        self.inputs  = inCount\n",
    "        self.outputs = outCount\n",
    "        self.neurons = {} # numbered index map (to outputs)\n",
    "    \n",
    "    def assignNeuron(self, index, neuron):\n",
    "        self.neurons[index] = neuron\n",
    "    \n",
    "    def __str__(self):\n",
    "        return str(self.neurons)\n",
    "    \n",
    "    def __len__(self):\n",
    "        return len(self.neurons)\n",
    "    \n",
    "    #TODO Port LVQ Constructor to LVQNet\n",
    "    def construct(self, inputs, outputs)"
   ]
  },
  {
   "cell_type": "code",
   "execution_count": 48,
   "metadata": {
    "collapsed": true
   },
   "outputs": [],
   "source": [
    "class LVQConstructor:\n",
    "    def __init__(self, inputs, outputs):\n",
    "        self.network = LVQNet(inputs, outputs)\n",
    "        temp_name = \"\"\n",
    "        \n",
    "        for n in range(outputs):\n",
    "            temp_name += \".\" # purely aesthetic\n",
    "            curr_neuron = LVQNeuron(temp_name)\n",
    "            curr_neuron.setWeights([1,1,1,11,1,1,1,1,1,11,11,1,1,11,1,1,1,1,1,1,1])\n",
    "            self.network.assignNeuron(n, curr_neuron)\n",
    "            \n",
    "    def __str__(self):\n",
    "        return str(self.network)"
   ]
  },
  {
   "cell_type": "code",
   "execution_count": 49,
   "metadata": {
    "collapsed": false
   },
   "outputs": [
    {
     "name": "stdout",
     "output_type": "stream",
     "text": [
      "{0: <__main__.LVQNeuron instance at 0x10cb0bb90>, 1: <__main__.LVQNeuron instance at 0x10cb0bc20>, 2: <__main__.LVQNeuron instance at 0x10cb0bc68>}\n"
     ]
    }
   ],
   "source": [
    "if __name__ == '__main__':\n",
    "    archie = LVQConstructor(1025, 3)\n",
    "    print archie\n",
    "    "
   ]
  }
 ],
 "metadata": {
  "kernelspec": {
   "display_name": "Python 2",
   "language": "python",
   "name": "python2"
  },
  "language_info": {
   "codemirror_mode": {
    "name": "ipython",
    "version": 2
   },
   "file_extension": ".py",
   "mimetype": "text/x-python",
   "name": "python",
   "nbconvert_exporter": "python",
   "pygments_lexer": "ipython2",
   "version": "2.7.6"
  }
 },
 "nbformat": 4,
 "nbformat_minor": 0
}
